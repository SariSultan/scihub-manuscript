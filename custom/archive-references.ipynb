{
 "cells": [
  {
   "cell_type": "markdown",
   "metadata": {},
   "source": [
    "# Create Wayback Machine Snapshots for references\n",
    "\n",
    "An eLife editor [provided us](https://github.com/greenelab/scihub-manuscript/issues/34) with the following comment:\n",
    "\n",
    "> Also, for those items that are not references to journal articles, please ensure that the following information is included: Author, year, title, doi or url, date accessed (in YYYY-MM-DD).\n",
    "\n",
    "However, most references have been accessed on multiple dates, and we have not kept track of this information. Therefore, we thought it'd make sense to access all articles on a given day and take a snapshot of them via the Internet Archive.\n",
    "\n",
    "See also [Manubot issue](https://github.com/greenelab/manubot-rootstock/issues/85) related to implementing Internet Archive snapshots."
   ]
  },
  {
   "cell_type": "code",
   "execution_count": 1,
   "metadata": {},
   "outputs": [],
   "source": [
    "import datetime\n",
    "import requests\n",
    "import time\n",
    "\n",
    "import pandas"
   ]
  },
  {
   "cell_type": "code",
   "execution_count": 2,
   "metadata": {},
   "outputs": [
    {
     "name": "stdout",
     "output_type": "stream",
     "text": [
      "The current time is 2018-01-25 15:53:31.125506\n"
     ]
    }
   ],
   "source": [
    "print(f'The current time is {datetime.datetime.now()}')"
   ]
  },
  {
   "cell_type": "code",
   "execution_count": 3,
   "metadata": {},
   "outputs": [],
   "source": [
    "# Read references.json from the Manubot output branch\n",
    "url = \"https://github.com/greenelab/scihub-manuscript/raw/8cd4af0793ccb75c8230763b33869da97d0219d8/references.json\"\n",
    "references = requests.get(url).json()"
   ]
  },
  {
   "cell_type": "code",
   "execution_count": 4,
   "metadata": {},
   "outputs": [
    {
     "data": {
      "text/html": [
       "<div>\n",
       "<style scoped>\n",
       "    .dataframe tbody tr th:only-of-type {\n",
       "        vertical-align: middle;\n",
       "    }\n",
       "\n",
       "    .dataframe tbody tr th {\n",
       "        vertical-align: top;\n",
       "    }\n",
       "\n",
       "    .dataframe thead th {\n",
       "        text-align: right;\n",
       "    }\n",
       "</style>\n",
       "<table border=\"1\" class=\"dataframe\">\n",
       "  <thead>\n",
       "    <tr style=\"text-align: right;\">\n",
       "      <th></th>\n",
       "      <th>id</th>\n",
       "      <th>URL</th>\n",
       "    </tr>\n",
       "  </thead>\n",
       "  <tbody>\n",
       "    <tr>\n",
       "      <th>0</th>\n",
       "      <td>16kozZ9Ys</td>\n",
       "      <td>https://arxiv.org/abs/1407.3561v1</td>\n",
       "    </tr>\n",
       "    <tr>\n",
       "      <th>1</th>\n",
       "      <td>8zeVK2hX</td>\n",
       "      <td>https://doi.org/10.1000/182</td>\n",
       "    </tr>\n",
       "    <tr>\n",
       "      <th>2</th>\n",
       "      <td>18KKRwlN6</td>\n",
       "      <td>https://doi.org/10.1002/asi.23445</td>\n",
       "    </tr>\n",
       "    <tr>\n",
       "      <th>3</th>\n",
       "      <td>aUCPtxQc</td>\n",
       "      <td>https://doi.org/10.1007/978-3-319-49304-6_40</td>\n",
       "    </tr>\n",
       "  </tbody>\n",
       "</table>\n",
       "</div>"
      ],
      "text/plain": [
       "          id                                           URL\n",
       "0  16kozZ9Ys             https://arxiv.org/abs/1407.3561v1\n",
       "1   8zeVK2hX                   https://doi.org/10.1000/182\n",
       "2  18KKRwlN6             https://doi.org/10.1002/asi.23445\n",
       "3   aUCPtxQc  https://doi.org/10.1007/978-3-319-49304-6_40"
      ]
     },
     "execution_count": 4,
     "metadata": {},
     "output_type": "execute_result"
    }
   ],
   "source": [
    "# Create a dataframe of URLs\n",
    "reference_df = pandas.DataFrame(references)[['id', 'URL']]\n",
    "reference_df.head(4)"
   ]
  },
  {
   "cell_type": "code",
   "execution_count": 13,
   "metadata": {},
   "outputs": [],
   "source": [
    "def create_url_snapshot(url):\n",
    "    \"\"\"\n",
    "    Create a snapshot of a URL in Internet Archive's wayback machine.\n",
    "    Returns the snapshot URL.\n",
    "    \"\"\"\n",
    "    archive_url = f'http://web.archive.org/save/{url}'\n",
    "    try:\n",
    "        response = requests.get(archive_url)\n",
    "    except Exception:\n",
    "        return None\n",
    "    if response.status_code != 200:\n",
    "        print(f'Failed: {response.url}')\n",
    "        return None\n",
    "    location = response.headers.get('Content-Location')\n",
    "    if not location:\n",
    "        return None\n",
    "    return f'http://web.archive.org{location}'"
   ]
  },
  {
   "cell_type": "code",
   "execution_count": 6,
   "metadata": {},
   "outputs": [],
   "source": [
    "snapshots = dict()"
   ]
  },
  {
   "cell_type": "code",
   "execution_count": 14,
   "metadata": {},
   "outputs": [
    {
     "name": "stdout",
     "output_type": "stream",
     "text": [
      "Failed: http://web.archive.org/save/https://scholarlykitchen.sspnet.org/2016/03/02/sci-hub-and-the-four-horsemen-of-the-internet/\n",
      "Failed: http://web.archive.org/save/https://scholarlykitchen.sspnet.org/2016/06/21/two-step-authentication-finally-coming-to-a-university-near-you/\n",
      "Failed: http://web.archive.org/save/https://scholarlykitchen.sspnet.org/2017/09/05/sci-hub-moves-center-ecosystem/\n"
     ]
    }
   ],
   "source": [
    "for url in reference_df.URL:\n",
    "    if url in snapshots:\n",
    "        continue\n",
    "    snapshots[url] = create_url_snapshot(url)\n",
    "    time.sleep(2)"
   ]
  },
  {
   "cell_type": "markdown",
   "metadata": {},
   "source": [
    "#### Failures\n",
    "\n",
    "Certain URLs could not be archived. For example,\n",
    "\n",
    "+ http://web.archive.org/save/http://doi.wiley.com/10.1002/asi.23445 failed due to \"Page cannot be displayed due to robots.txt\""
   ]
  },
  {
   "cell_type": "code",
   "execution_count": 15,
   "metadata": {},
   "outputs": [
    {
     "data": {
      "text/html": [
       "<div>\n",
       "<style scoped>\n",
       "    .dataframe tbody tr th:only-of-type {\n",
       "        vertical-align: middle;\n",
       "    }\n",
       "\n",
       "    .dataframe tbody tr th {\n",
       "        vertical-align: top;\n",
       "    }\n",
       "\n",
       "    .dataframe thead th {\n",
       "        text-align: right;\n",
       "    }\n",
       "</style>\n",
       "<table border=\"1\" class=\"dataframe\">\n",
       "  <thead>\n",
       "    <tr style=\"text-align: right;\">\n",
       "      <th></th>\n",
       "      <th>id</th>\n",
       "      <th>URL</th>\n",
       "      <th>snapshot</th>\n",
       "    </tr>\n",
       "  </thead>\n",
       "  <tbody>\n",
       "    <tr>\n",
       "      <th>0</th>\n",
       "      <td>16kozZ9Ys</td>\n",
       "      <td>https://arxiv.org/abs/1407.3561v1</td>\n",
       "      <td>http://web.archive.org/web/20180125205333/http...</td>\n",
       "    </tr>\n",
       "    <tr>\n",
       "      <th>1</th>\n",
       "      <td>8zeVK2hX</td>\n",
       "      <td>https://doi.org/10.1000/182</td>\n",
       "      <td>http://web.archive.org/web/20180125205338/http...</td>\n",
       "    </tr>\n",
       "    <tr>\n",
       "      <th>2</th>\n",
       "      <td>18KKRwlN6</td>\n",
       "      <td>https://doi.org/10.1002/asi.23445</td>\n",
       "      <td>None</td>\n",
       "    </tr>\n",
       "    <tr>\n",
       "      <th>3</th>\n",
       "      <td>aUCPtxQc</td>\n",
       "      <td>https://doi.org/10.1007/978-3-319-49304-6_40</td>\n",
       "      <td>None</td>\n",
       "    </tr>\n",
       "  </tbody>\n",
       "</table>\n",
       "</div>"
      ],
      "text/plain": [
       "          id                                           URL  \\\n",
       "0  16kozZ9Ys             https://arxiv.org/abs/1407.3561v1   \n",
       "1   8zeVK2hX                   https://doi.org/10.1000/182   \n",
       "2  18KKRwlN6             https://doi.org/10.1002/asi.23445   \n",
       "3   aUCPtxQc  https://doi.org/10.1007/978-3-319-49304-6_40   \n",
       "\n",
       "                                            snapshot  \n",
       "0  http://web.archive.org/web/20180125205333/http...  \n",
       "1  http://web.archive.org/web/20180125205338/http...  \n",
       "2                                               None  \n",
       "3                                               None  "
      ]
     },
     "execution_count": 15,
     "metadata": {},
     "output_type": "execute_result"
    }
   ],
   "source": [
    "reference_df['snapshot'] = reference_df.URL.map(snapshots)\n",
    "reference_df.head(4)"
   ]
  },
  {
   "cell_type": "code",
   "execution_count": 16,
   "metadata": {},
   "outputs": [],
   "source": [
    "reference_df.to_csv('reference-snapshots.tsv', sep='\\t', index=False)"
   ]
  }
 ],
 "metadata": {
  "kernelspec": {
   "display_name": "Python [conda root]",
   "language": "python",
   "name": "conda-root-py"
  },
  "language_info": {
   "codemirror_mode": {
    "name": "ipython",
    "version": 3
   },
   "file_extension": ".py",
   "mimetype": "text/x-python",
   "name": "python",
   "nbconvert_exporter": "python",
   "pygments_lexer": "ipython3",
   "version": "3.6.4"
  }
 },
 "nbformat": 4,
 "nbformat_minor": 2
}
