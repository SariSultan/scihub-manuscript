{
 "cells": [
  {
   "cell_type": "markdown",
   "metadata": {},
   "source": [
    "# Collect and convert figures to PDF for eLife submission upload"
   ]
  },
  {
   "cell_type": "code",
   "execution_count": 1,
   "metadata": {},
   "outputs": [],
   "source": [
    "import pathlib\n",
    "import urllib.request\n",
    "import re\n",
    "\n",
    "import requests\n",
    "import bs4"
   ]
  },
  {
   "cell_type": "code",
   "execution_count": 2,
   "metadata": {},
   "outputs": [],
   "source": [
    "url = 'https://github.com/greenelab/scihub-manuscript/raw/127bc440956b7132ecc8531b673eb0d7e94ce618/manuscript.html'\n",
    "html = requests.get(url).text\n",
    "soup = bs4.BeautifulSoup(html, 'html.parser')"
   ]
  },
  {
   "cell_type": "code",
   "execution_count": 3,
   "metadata": {},
   "outputs": [
    {
     "data": {
      "text/plain": [
       "17"
      ]
     },
     "execution_count": 3,
     "metadata": {},
     "output_type": "execute_result"
    }
   ],
   "source": [
    "figures = soup.find_all('figure')\n",
    "len(figures)"
   ]
  },
  {
   "cell_type": "code",
   "execution_count": 4,
   "metadata": {},
   "outputs": [
    {
     "name": "stdout",
     "output_type": "stream",
     "text": [
      "Figure-1\n",
      "Figure-2\n",
      "Figure-3\n",
      "Figure-4\n",
      "Figure-5\n",
      "Figure-6\n",
      "Figure-7\n",
      "Figure-8\n",
      "Figure-9\n",
      "Figure-10\n",
      "Figure-11\n",
      "Figure-1-figure-supplement-1\n",
      "Figure-4-figure-supplement-1\n",
      "Figure-6-figure-supplement-1\n",
      "Figure-7-figure-supplement-1\n",
      "Figure-10-figure-supplement-1\n",
      "Figure-11-figure-supplement-1\n"
     ]
    }
   ],
   "source": [
    "pattern = re.compile(r'\\W+')\n",
    "\n",
    "for figure in figures:\n",
    "    image = figure.find('img')\n",
    "    figno, caption = image.get('alt').split(':', 1)\n",
    "    figno = pattern.sub('-', figno)\n",
    "    print(figno)\n",
    "\n",
    "    # Download image (always download SVG, even if image is PNG)\n",
    "    url = image.get('src')\n",
    "    root, extension = url.rsplit('.', 1)\n",
    "    path = f'{figno}.svg'\n",
    "    urllib.request.urlretrieve(f'{root}.svg', path)\n",
    "\n",
    "    # Convert SVGs to PDF\n",
    "    if path.endswith('.svg'):\n",
    "        new_path = f'{figno}.pdf'\n",
    "        ! rsvg-convert --format=pdf --output={new_path} {path}  && rm {path}"
   ]
  }
 ],
 "metadata": {
  "kernelspec": {
   "display_name": "Python [conda root]",
   "language": "python",
   "name": "conda-root-py"
  },
  "language_info": {
   "codemirror_mode": {
    "name": "ipython",
    "version": 3
   },
   "file_extension": ".py",
   "mimetype": "text/x-python",
   "name": "python",
   "nbconvert_exporter": "python",
   "pygments_lexer": "ipython3",
   "version": "3.6.4"
  }
 },
 "nbformat": 4,
 "nbformat_minor": 2
}
